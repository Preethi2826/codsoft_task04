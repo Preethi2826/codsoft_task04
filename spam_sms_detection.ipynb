{
  "cells": [
    {
      "cell_type": "code",
      "execution_count": null,
      "id": "86c94951",
      "metadata": {
        "_cell_guid": "b1076dfc-b9ad-4769-8c92-a6c4dae69d19",
        "_uuid": "8f2839f25d086af736a60e9eeb907d3b93b6e0e5",
        "execution": {
          "iopub.execute_input": "2024-08-11T13:55:20.796486Z",
          "iopub.status.busy": "2024-08-11T13:55:20.795978Z",
          "iopub.status.idle": "2024-08-11T13:55:21.653089Z",
          "shell.execute_reply": "2024-08-11T13:55:21.651420Z"
        },
        "papermill": {
          "duration": 0.865181,
          "end_time": "2024-08-11T13:55:21.655776",
          "exception": false,
          "start_time": "2024-08-11T13:55:20.790595",
          "status": "completed"
        },
        "tags": [],
        "id": "86c94951"
      },
      "outputs": [],
      "source": [
        "# This Python 3 environment comes with many helpful analytics libraries installed\n",
        "# It is defined by the kaggle/python Docker image: https://github.com/kaggle/docker-python\n",
        "# For example, here's several helpful packages to load\n",
        "\n",
        "import numpy as np # linear algebra\n",
        "import pandas as pd # data processing, CSV file I/O (e.g. pd.read_csv)\n",
        "\n",
        "# Input data files are available in the read-only \"../input/\" directory\n",
        "# For example, running this (by clicking run or pressing Shift+Enter) will list all files under the input directory\n",
        "\n",
        "import os\n",
        "for dirname, _, filenames in os.walk('/kaggle/input'):\n",
        "    for filename in filenames:\n",
        "        print(os.path.join(dirname, filename))\n",
        "\n",
        "# You can write up to 20GB to the current directory (/kaggle/working/) that gets preserved as output when you create a version using \"Save & Run All\"\n",
        "# You can also write temporary files to /kaggle/temp/, but they won't be saved outside of the current session"
      ]
    },
    {
      "cell_type": "code",
      "execution_count": null,
      "id": "e2dc0521",
      "metadata": {
        "execution": {
          "iopub.execute_input": "2024-08-11T13:55:21.663969Z",
          "iopub.status.busy": "2024-08-11T13:55:21.663429Z",
          "iopub.status.idle": "2024-08-11T13:55:23.393854Z",
          "shell.execute_reply": "2024-08-11T13:55:23.392330Z"
        },
        "papermill": {
          "duration": 1.737456,
          "end_time": "2024-08-11T13:55:23.396664",
          "exception": false,
          "start_time": "2024-08-11T13:55:21.659208",
          "status": "completed"
        },
        "tags": [],
        "colab": {
          "base_uri": "https://localhost:8080/"
        },
        "id": "e2dc0521",
        "outputId": "e569d388-9c4e-4e60-85e0-3995de2c0528"
      },
      "outputs": [
        {
          "output_type": "stream",
          "name": "stdout",
          "text": [
            "Naive Bayes Report:\n",
            "              precision    recall  f1-score   support\n",
            "\n",
            "           0       0.96      1.00      0.98       965\n",
            "           1       1.00      0.75      0.86       150\n",
            "\n",
            "    accuracy                           0.97      1115\n",
            "   macro avg       0.98      0.88      0.92      1115\n",
            "weighted avg       0.97      0.97      0.96      1115\n",
            "\n"
          ]
        }
      ],
      "source": [
        "# Import necessary libraries\n",
        "import pandas as pd\n",
        "from sklearn.model_selection import train_test_split\n",
        "from sklearn.feature_extraction.text import TfidfVectorizer\n",
        "from sklearn.naive_bayes import MultinomialNB\n",
        "from sklearn.linear_model import LogisticRegression\n",
        "from sklearn.svm import SVC\n",
        "from sklearn.metrics import classification_report\n",
        "\n",
        "# Load the CSV file\n",
        "file_path = 'spam.csv'  # Update the path if necessary\n",
        "data = pd.read_csv(file_path, encoding='latin-1')\n",
        "\n",
        "# Drop unnecessary columns and rename for convenience\n",
        "data = data[['v1', 'v2']]\n",
        "data.columns = ['label', 'message']\n",
        "\n",
        "# Encode labels (spam = 1, ham = 0)\n",
        "data['label'] = data['label'].map({'spam': 1, 'ham': 0})\n",
        "\n",
        "# Split the data into training and testing sets\n",
        "X_train, X_test, y_train, y_test = train_test_split(data['message'], data['label'], test_size=0.2, random_state=42)\n",
        "\n",
        "# Use TF-IDF to vectorize the text data\n",
        "tfidf_vectorizer = TfidfVectorizer(stop_words='english', max_df=0.95)\n",
        "X_train_tfidf = tfidf_vectorizer.fit_transform(X_train)\n",
        "X_test_tfidf = tfidf_vectorizer.transform(X_test)\n",
        "\n",
        "# Train and evaluate Naive Bayes classifier\n",
        "nb_model = MultinomialNB()\n",
        "nb_model.fit(X_train_tfidf, y_train)\n",
        "y_pred_nb = nb_model.predict(X_test_tfidf)\n",
        "nb_report = classification_report(y_test, y_pred_nb)\n",
        "print(\"Naive Bayes Report:\")\n",
        "print(nb_report)"
      ]
    },
    {
      "cell_type": "code",
      "execution_count": null,
      "id": "703cdacc",
      "metadata": {
        "execution": {
          "iopub.execute_input": "2024-08-11T13:55:23.404695Z",
          "iopub.status.busy": "2024-08-11T13:55:23.404206Z",
          "iopub.status.idle": "2024-08-11T13:55:23.504375Z",
          "shell.execute_reply": "2024-08-11T13:55:23.493876Z"
        },
        "papermill": {
          "duration": 0.108375,
          "end_time": "2024-08-11T13:55:23.508096",
          "exception": false,
          "start_time": "2024-08-11T13:55:23.399721",
          "status": "completed"
        },
        "tags": [],
        "colab": {
          "base_uri": "https://localhost:8080/"
        },
        "id": "703cdacc",
        "outputId": "7f6999cd-1f35-415b-ca21-fe8a55c06507"
      },
      "outputs": [
        {
          "output_type": "stream",
          "name": "stdout",
          "text": [
            "Logistic Regression Report:\n",
            "              precision    recall  f1-score   support\n",
            "\n",
            "           0       0.95      1.00      0.97       965\n",
            "           1       0.97      0.67      0.79       150\n",
            "\n",
            "    accuracy                           0.95      1115\n",
            "   macro avg       0.96      0.83      0.88      1115\n",
            "weighted avg       0.95      0.95      0.95      1115\n",
            "\n"
          ]
        }
      ],
      "source": [
        "# Train and evaluate Logistic Regression classifier\n",
        "lr_model = LogisticRegression(max_iter=1000, random_state=42)\n",
        "lr_model.fit(X_train_tfidf, y_train)\n",
        "y_pred_lr = lr_model.predict(X_test_tfidf)\n",
        "lr_report = classification_report(y_test, y_pred_lr)\n",
        "print(\"Logistic Regression Report:\")\n",
        "print(lr_report)\n"
      ]
    },
    {
      "cell_type": "code",
      "execution_count": null,
      "id": "67413fb0",
      "metadata": {
        "execution": {
          "iopub.execute_input": "2024-08-11T13:55:23.518773Z",
          "iopub.status.busy": "2024-08-11T13:55:23.518321Z",
          "iopub.status.idle": "2024-08-11T13:55:25.411963Z",
          "shell.execute_reply": "2024-08-11T13:55:25.410651Z"
        },
        "papermill": {
          "duration": 1.902086,
          "end_time": "2024-08-11T13:55:25.414690",
          "exception": false,
          "start_time": "2024-08-11T13:55:23.512604",
          "status": "completed"
        },
        "tags": [],
        "colab": {
          "base_uri": "https://localhost:8080/"
        },
        "id": "67413fb0",
        "outputId": "0ad6c9ee-6883-4a68-c8ab-a409c0233025"
      },
      "outputs": [
        {
          "output_type": "stream",
          "name": "stdout",
          "text": [
            "SVM Report:\n",
            "              precision    recall  f1-score   support\n",
            "\n",
            "           0       0.97      1.00      0.99       965\n",
            "           1       0.99      0.83      0.91       150\n",
            "\n",
            "    accuracy                           0.98      1115\n",
            "   macro avg       0.98      0.92      0.95      1115\n",
            "weighted avg       0.98      0.98      0.98      1115\n",
            "\n"
          ]
        }
      ],
      "source": [
        "# Train and evaluate Support Vector Machine classifier\n",
        "svm_model = SVC(random_state=42)\n",
        "svm_model.fit(X_train_tfidf, y_train)\n",
        "y_pred_svm = svm_model.predict(X_test_tfidf)\n",
        "svm_report = classification_report(y_test, y_pred_svm)\n",
        "print(\"SVM Report:\")\n",
        "print(svm_report)"
      ]
    }
  ],
  "metadata": {
    "kaggle": {
      "accelerator": "none",
      "dataSources": [
        {
          "datasetId": 483,
          "sourceId": 982,
          "sourceType": "datasetVersion"
        }
      ],
      "dockerImageVersionId": 30746,
      "isGpuEnabled": false,
      "isInternetEnabled": true,
      "language": "python",
      "sourceType": "notebook"
    },
    "kernelspec": {
      "display_name": "Python 3",
      "language": "python",
      "name": "python3"
    },
    "language_info": {
      "codemirror_mode": {
        "name": "ipython",
        "version": 3
      },
      "file_extension": ".py",
      "mimetype": "text/x-python",
      "name": "python",
      "nbconvert_exporter": "python",
      "pygments_lexer": "ipython3",
      "version": "3.10.13"
    },
    "papermill": {
      "default_parameters": {},
      "duration": 8.342418,
      "end_time": "2024-08-11T13:55:26.038836",
      "environment_variables": {},
      "exception": null,
      "input_path": "__notebook__.ipynb",
      "output_path": "__notebook__.ipynb",
      "parameters": {},
      "start_time": "2024-08-11T13:55:17.696418",
      "version": "2.5.0"
    },
    "colab": {
      "provenance": []
    }
  },
  "nbformat": 4,
  "nbformat_minor": 5
}